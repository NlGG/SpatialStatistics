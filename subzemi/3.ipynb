{
 "cells": [
  {
   "cell_type": "markdown",
   "metadata": {},
   "source": [
    "# 第3講 一般化線形モデルと空間統計"
   ]
  },
  {
   "cell_type": "markdown",
   "metadata": {},
   "source": [
    "## 3.1 一般化線形モデル"
   ]
  },
  {
   "cell_type": "markdown",
   "metadata": {},
   "source": [
    "線形予測子と対数リンク関数.この個体ごとに異なる平均$\\lambda_i$を説明変数$x_i$の関数として定義しなければならない.  \n",
    "ここでは、ある個体iの平均種子数$\\lambda_i$が、\n",
    "$$\\lambda_i=exp(\\beta_1+\\beta_2x_i)$$\n",
    "であるとする.  \n",
    "この式は、\n",
    "$$log\\lambda_i = \\beta_1 + \\beta_2x_i$$\n",
    "・右辺は線形予測子と呼ばれる.  \n",
    "・左辺の関数はリンク関数と呼ばれる(この場合は対数関数を指定しているので対数リンク関数と呼ばれる).  \n",
    "・・・ポアソン回帰で対数リンク関数を用いる理由は、$\\lambda_i=exp(線形予測子)≥0$となっているところ."
   ]
  },
  {
   "cell_type": "markdown",
   "metadata": {},
   "source": [
    "ポアソン回帰:観測データに対するポアソン分布を使った統計モデルのあてはめ.  \n",
    "=あてはめ:この統計モデルの対数尤度logLが最大になるパラメーター$\\hat{\\beta}_1$と$\\hat{\\beta}_2$の推定値を決めること.  \n",
    "このモデルの対数尤度は、\n",
    "$$logL(\\beta_1, \\beta_2)=\\sum_{i}log\\frac{\\lambda_i~{y_i}exp(-\\lambda_i)}{y_i!}$$  \n",
    "線形予測子は$log\\lambda_i=\\beta_1+\\beta_2x_iとなっているので、$\\lambda_i$は$\\beta_1$と$\\beta_2$の関数.  "
   ]
  },
  {
   "cell_type": "markdown",
   "metadata": {},
   "source": [
    "## 3.2 GLMのモデル選択"
   ]
  },
  {
   "cell_type": "markdown",
   "metadata": {},
   "source": [
    "## 3.3 統計学的な検定"
   ]
  },
  {
   "cell_type": "markdown",
   "metadata": {},
   "source": [
    "## 3.4 階層ベイズモデル"
   ]
  },
  {
   "cell_type": "markdown",
   "metadata": {},
   "source": [
    "## 3.5 空間統計モデル"
   ]
  },
  {
   "cell_type": "code",
   "execution_count": null,
   "metadata": {
    "collapsed": true
   },
   "outputs": [],
   "source": []
  }
 ],
 "metadata": {
  "kernelspec": {
   "display_name": "R",
   "language": "R",
   "name": "ir"
  },
  "language_info": {
   "codemirror_mode": "r",
   "file_extension": ".r",
   "mimetype": "text/x-r-source",
   "name": "R",
   "pygments_lexer": "r",
   "version": "3.2.4"
  }
 },
 "nbformat": 4,
 "nbformat_minor": 0
}
